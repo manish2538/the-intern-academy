{
  "nbformat": 4,
  "nbformat_minor": 0,
  "metadata": {
    "colab": {
      "name": "titanic eda.ipynb",
      "provenance": [],
      "collapsed_sections": []
    },
    "kernelspec": {
      "name": "python3",
      "display_name": "Python 3"
    },
    "language_info": {
      "name": "python"
    }
  },
  "cells": [
    {
      "cell_type": "markdown",
      "metadata": {
        "id": "qeKCUIjADfs1"
      },
      "source": [
        "# **Task 1**\n",
        "# **Author - Manish Aggarwal**\n",
        "# **Linkdin - https://www.linkedin.com/in/ma2538**\n"
      ]
    },
    {
      "cell_type": "markdown",
      "metadata": {
        "id": "IFyaJBw-C8dj"
      },
      "source": [
        "\n",
        "## **Titanic EDA**\n",
        "\n",
        "Dataset - https://www.kaggle.com/shuofxz/titanic-machine-learning-from-disaster/tasks?taskId=2692"
      ]
    },
    {
      "cell_type": "markdown",
      "metadata": {
        "id": "6Wlgq9sDDp73"
      },
      "source": [
        "**Importing libraries**"
      ]
    },
    {
      "cell_type": "code",
      "metadata": {
        "id": "YYaogyDkSLCa",
        "colab": {
          "base_uri": "https://localhost:8080/"
        },
        "outputId": "fcfd2841-5365-415c-ed67-29593606289b"
      },
      "source": [
        "import numpy as np\n",
        "import pandas as pd\n",
        "import matplotlib.pyplot as plt\n",
        "import seaborn as sns\n",
        "plt.style.use(\"seaborn\")\n",
        "import math\n",
        "import warnings\n",
        "from sklearn.metrics import accuracy_score\n",
        "warnings.simplefilter(\"ignore\", UserWarning)\n",
        "warnings.warn('ignore', FutureWarning)"
      ],
      "execution_count": 19,
      "outputs": [
        {
          "output_type": "stream",
          "text": [
            "/usr/local/lib/python3.7/dist-packages/ipykernel_launcher.py:10: FutureWarning: ignore\n",
            "  # Remove the CWD from sys.path while we load stuff.\n"
          ],
          "name": "stderr"
        }
      ]
    },
    {
      "cell_type": "markdown",
      "metadata": {
        "id": "kiwRbTyVEHKc"
      },
      "source": [
        "**Loading Data into Pandas DataFrame**"
      ]
    },
    {
      "cell_type": "code",
      "metadata": {
        "id": "nzz0xRzfTspG"
      },
      "source": [
        "titanic_df = pd.read_csv(\"/content/drive/MyDrive/the intern academy/task 1 - titanic eda/titanic dataset/train.csv\")"
      ],
      "execution_count": 20,
      "outputs": []
    },
    {
      "cell_type": "code",
      "metadata": {
        "colab": {
          "base_uri": "https://localhost:8080/"
        },
        "id": "Js_GqmWqO65i",
        "outputId": "ce034255-7903-482c-e191-ae4e5f95d986"
      },
      "source": [
        "titanic_df.Age.mean()"
      ],
      "execution_count": 21,
      "outputs": [
        {
          "output_type": "execute_result",
          "data": {
            "text/plain": [
              "29.69911764705882"
            ]
          },
          "metadata": {
            "tags": []
          },
          "execution_count": 21
        }
      ]
    },
    {
      "cell_type": "markdown",
      "metadata": {
        "id": "y6XVMJnoESc8"
      },
      "source": [
        "**Exploring Data**"
      ]
    },
    {
      "cell_type": "code",
      "metadata": {
        "colab": {
          "base_uri": "https://localhost:8080/",
          "height": 233
        },
        "id": "7lfWdZ5MD7u3",
        "outputId": "490207d9-cc6d-4966-844a-9d79d6b25789"
      },
      "source": [
        "titanic_df.head()   #first five rows of data"
      ],
      "execution_count": 22,
      "outputs": [
        {
          "output_type": "execute_result",
          "data": {
            "text/html": [
              "<div>\n",
              "<style scoped>\n",
              "    .dataframe tbody tr th:only-of-type {\n",
              "        vertical-align: middle;\n",
              "    }\n",
              "\n",
              "    .dataframe tbody tr th {\n",
              "        vertical-align: top;\n",
              "    }\n",
              "\n",
              "    .dataframe thead th {\n",
              "        text-align: right;\n",
              "    }\n",
              "</style>\n",
              "<table border=\"1\" class=\"dataframe\">\n",
              "  <thead>\n",
              "    <tr style=\"text-align: right;\">\n",
              "      <th></th>\n",
              "      <th>PassengerId</th>\n",
              "      <th>Survived</th>\n",
              "      <th>Pclass</th>\n",
              "      <th>Name</th>\n",
              "      <th>Sex</th>\n",
              "      <th>Age</th>\n",
              "      <th>SibSp</th>\n",
              "      <th>Parch</th>\n",
              "      <th>Ticket</th>\n",
              "      <th>Fare</th>\n",
              "      <th>Cabin</th>\n",
              "      <th>Embarked</th>\n",
              "    </tr>\n",
              "  </thead>\n",
              "  <tbody>\n",
              "    <tr>\n",
              "      <th>0</th>\n",
              "      <td>1</td>\n",
              "      <td>0</td>\n",
              "      <td>3</td>\n",
              "      <td>Braund, Mr. Owen Harris</td>\n",
              "      <td>male</td>\n",
              "      <td>22.0</td>\n",
              "      <td>1</td>\n",
              "      <td>0</td>\n",
              "      <td>A/5 21171</td>\n",
              "      <td>7.2500</td>\n",
              "      <td>NaN</td>\n",
              "      <td>S</td>\n",
              "    </tr>\n",
              "    <tr>\n",
              "      <th>1</th>\n",
              "      <td>2</td>\n",
              "      <td>1</td>\n",
              "      <td>1</td>\n",
              "      <td>Cumings, Mrs. John Bradley (Florence Briggs Th...</td>\n",
              "      <td>female</td>\n",
              "      <td>38.0</td>\n",
              "      <td>1</td>\n",
              "      <td>0</td>\n",
              "      <td>PC 17599</td>\n",
              "      <td>71.2833</td>\n",
              "      <td>C85</td>\n",
              "      <td>C</td>\n",
              "    </tr>\n",
              "    <tr>\n",
              "      <th>2</th>\n",
              "      <td>3</td>\n",
              "      <td>1</td>\n",
              "      <td>3</td>\n",
              "      <td>Heikkinen, Miss. Laina</td>\n",
              "      <td>female</td>\n",
              "      <td>26.0</td>\n",
              "      <td>0</td>\n",
              "      <td>0</td>\n",
              "      <td>STON/O2. 3101282</td>\n",
              "      <td>7.9250</td>\n",
              "      <td>NaN</td>\n",
              "      <td>S</td>\n",
              "    </tr>\n",
              "    <tr>\n",
              "      <th>3</th>\n",
              "      <td>4</td>\n",
              "      <td>1</td>\n",
              "      <td>1</td>\n",
              "      <td>Futrelle, Mrs. Jacques Heath (Lily May Peel)</td>\n",
              "      <td>female</td>\n",
              "      <td>35.0</td>\n",
              "      <td>1</td>\n",
              "      <td>0</td>\n",
              "      <td>113803</td>\n",
              "      <td>53.1000</td>\n",
              "      <td>C123</td>\n",
              "      <td>S</td>\n",
              "    </tr>\n",
              "    <tr>\n",
              "      <th>4</th>\n",
              "      <td>5</td>\n",
              "      <td>0</td>\n",
              "      <td>3</td>\n",
              "      <td>Allen, Mr. William Henry</td>\n",
              "      <td>male</td>\n",
              "      <td>35.0</td>\n",
              "      <td>0</td>\n",
              "      <td>0</td>\n",
              "      <td>373450</td>\n",
              "      <td>8.0500</td>\n",
              "      <td>NaN</td>\n",
              "      <td>S</td>\n",
              "    </tr>\n",
              "  </tbody>\n",
              "</table>\n",
              "</div>"
            ],
            "text/plain": [
              "   PassengerId  Survived  Pclass  ...     Fare Cabin  Embarked\n",
              "0            1         0       3  ...   7.2500   NaN         S\n",
              "1            2         1       1  ...  71.2833   C85         C\n",
              "2            3         1       3  ...   7.9250   NaN         S\n",
              "3            4         1       1  ...  53.1000  C123         S\n",
              "4            5         0       3  ...   8.0500   NaN         S\n",
              "\n",
              "[5 rows x 12 columns]"
            ]
          },
          "metadata": {
            "tags": []
          },
          "execution_count": 22
        }
      ]
    },
    {
      "cell_type": "code",
      "metadata": {
        "colab": {
          "base_uri": "https://localhost:8080/"
        },
        "id": "jGq778NKTzuS",
        "outputId": "76d2faf7-30ca-4788-ceb2-8f718de5b585"
      },
      "source": [
        "titanic_df.shape    #to get number of rows and columns"
      ],
      "execution_count": 23,
      "outputs": [
        {
          "output_type": "execute_result",
          "data": {
            "text/plain": [
              "(891, 12)"
            ]
          },
          "metadata": {
            "tags": []
          },
          "execution_count": 23
        }
      ]
    },
    {
      "cell_type": "code",
      "metadata": {
        "colab": {
          "base_uri": "https://localhost:8080/",
          "height": 288
        },
        "id": "Z14bKIBVEblX",
        "outputId": "07c4da8f-0d90-4eb1-bca5-19b59b87cb4e"
      },
      "source": [
        "titanic_df.describe()  #to get percentile,mean,standard deviation of  numrical data "
      ],
      "execution_count": 24,
      "outputs": [
        {
          "output_type": "execute_result",
          "data": {
            "text/html": [
              "<div>\n",
              "<style scoped>\n",
              "    .dataframe tbody tr th:only-of-type {\n",
              "        vertical-align: middle;\n",
              "    }\n",
              "\n",
              "    .dataframe tbody tr th {\n",
              "        vertical-align: top;\n",
              "    }\n",
              "\n",
              "    .dataframe thead th {\n",
              "        text-align: right;\n",
              "    }\n",
              "</style>\n",
              "<table border=\"1\" class=\"dataframe\">\n",
              "  <thead>\n",
              "    <tr style=\"text-align: right;\">\n",
              "      <th></th>\n",
              "      <th>PassengerId</th>\n",
              "      <th>Survived</th>\n",
              "      <th>Pclass</th>\n",
              "      <th>Age</th>\n",
              "      <th>SibSp</th>\n",
              "      <th>Parch</th>\n",
              "      <th>Fare</th>\n",
              "    </tr>\n",
              "  </thead>\n",
              "  <tbody>\n",
              "    <tr>\n",
              "      <th>count</th>\n",
              "      <td>891.000000</td>\n",
              "      <td>891.000000</td>\n",
              "      <td>891.000000</td>\n",
              "      <td>714.000000</td>\n",
              "      <td>891.000000</td>\n",
              "      <td>891.000000</td>\n",
              "      <td>891.000000</td>\n",
              "    </tr>\n",
              "    <tr>\n",
              "      <th>mean</th>\n",
              "      <td>446.000000</td>\n",
              "      <td>0.383838</td>\n",
              "      <td>2.308642</td>\n",
              "      <td>29.699118</td>\n",
              "      <td>0.523008</td>\n",
              "      <td>0.381594</td>\n",
              "      <td>32.204208</td>\n",
              "    </tr>\n",
              "    <tr>\n",
              "      <th>std</th>\n",
              "      <td>257.353842</td>\n",
              "      <td>0.486592</td>\n",
              "      <td>0.836071</td>\n",
              "      <td>14.526497</td>\n",
              "      <td>1.102743</td>\n",
              "      <td>0.806057</td>\n",
              "      <td>49.693429</td>\n",
              "    </tr>\n",
              "    <tr>\n",
              "      <th>min</th>\n",
              "      <td>1.000000</td>\n",
              "      <td>0.000000</td>\n",
              "      <td>1.000000</td>\n",
              "      <td>0.420000</td>\n",
              "      <td>0.000000</td>\n",
              "      <td>0.000000</td>\n",
              "      <td>0.000000</td>\n",
              "    </tr>\n",
              "    <tr>\n",
              "      <th>25%</th>\n",
              "      <td>223.500000</td>\n",
              "      <td>0.000000</td>\n",
              "      <td>2.000000</td>\n",
              "      <td>20.125000</td>\n",
              "      <td>0.000000</td>\n",
              "      <td>0.000000</td>\n",
              "      <td>7.910400</td>\n",
              "    </tr>\n",
              "    <tr>\n",
              "      <th>50%</th>\n",
              "      <td>446.000000</td>\n",
              "      <td>0.000000</td>\n",
              "      <td>3.000000</td>\n",
              "      <td>28.000000</td>\n",
              "      <td>0.000000</td>\n",
              "      <td>0.000000</td>\n",
              "      <td>14.454200</td>\n",
              "    </tr>\n",
              "    <tr>\n",
              "      <th>75%</th>\n",
              "      <td>668.500000</td>\n",
              "      <td>1.000000</td>\n",
              "      <td>3.000000</td>\n",
              "      <td>38.000000</td>\n",
              "      <td>1.000000</td>\n",
              "      <td>0.000000</td>\n",
              "      <td>31.000000</td>\n",
              "    </tr>\n",
              "    <tr>\n",
              "      <th>max</th>\n",
              "      <td>891.000000</td>\n",
              "      <td>1.000000</td>\n",
              "      <td>3.000000</td>\n",
              "      <td>80.000000</td>\n",
              "      <td>8.000000</td>\n",
              "      <td>6.000000</td>\n",
              "      <td>512.329200</td>\n",
              "    </tr>\n",
              "  </tbody>\n",
              "</table>\n",
              "</div>"
            ],
            "text/plain": [
              "       PassengerId    Survived      Pclass  ...       SibSp       Parch        Fare\n",
              "count   891.000000  891.000000  891.000000  ...  891.000000  891.000000  891.000000\n",
              "mean    446.000000    0.383838    2.308642  ...    0.523008    0.381594   32.204208\n",
              "std     257.353842    0.486592    0.836071  ...    1.102743    0.806057   49.693429\n",
              "min       1.000000    0.000000    1.000000  ...    0.000000    0.000000    0.000000\n",
              "25%     223.500000    0.000000    2.000000  ...    0.000000    0.000000    7.910400\n",
              "50%     446.000000    0.000000    3.000000  ...    0.000000    0.000000   14.454200\n",
              "75%     668.500000    1.000000    3.000000  ...    1.000000    0.000000   31.000000\n",
              "max     891.000000    1.000000    3.000000  ...    8.000000    6.000000  512.329200\n",
              "\n",
              "[8 rows x 7 columns]"
            ]
          },
          "metadata": {
            "tags": []
          },
          "execution_count": 24
        }
      ]
    },
    {
      "cell_type": "markdown",
      "metadata": {
        "id": "vdp9PMQmEy3J"
      },
      "source": [
        "1. **this titanic dataset have 891 rows and 12 columns**\n",
        "2. **Age contains some missing values**\n",
        "3. **near about 50% of passengers were about the age of 28**\n",
        "\n",
        "\n",
        "\n",
        "\n",
        "\n"
      ]
    },
    {
      "cell_type": "markdown",
      "metadata": {
        "id": "UKTzqVlNGjKP"
      },
      "source": [
        "**A. Checking missing values**"
      ]
    },
    {
      "cell_type": "code",
      "metadata": {
        "colab": {
          "base_uri": "https://localhost:8080/"
        },
        "id": "eulrCMYcEbqQ",
        "outputId": "774b074f-8f8a-49fe-b772-80b9dcc2a1cc"
      },
      "source": [
        "titanic_df.isnull().sum()  #returns total number of missing values for each column"
      ],
      "execution_count": 25,
      "outputs": [
        {
          "output_type": "execute_result",
          "data": {
            "text/plain": [
              "PassengerId      0\n",
              "Survived         0\n",
              "Pclass           0\n",
              "Name             0\n",
              "Sex              0\n",
              "Age            177\n",
              "SibSp            0\n",
              "Parch            0\n",
              "Ticket           0\n",
              "Fare             0\n",
              "Cabin          687\n",
              "Embarked         2\n",
              "dtype: int64"
            ]
          },
          "metadata": {
            "tags": []
          },
          "execution_count": 25
        }
      ]
    },
    {
      "cell_type": "code",
      "metadata": {
        "colab": {
          "base_uri": "https://localhost:8080/",
          "height": 397
        },
        "id": "29_taHLREbvB",
        "outputId": "285e6122-a95f-4ada-8ea7-fa109d92372e"
      },
      "source": [
        "sns.heatmap(titanic_df.isnull(),cbar = False , cmap = \"viridis\");  #visualizing the missing values in data"
      ],
      "execution_count": 26,
      "outputs": [
        {
          "output_type": "display_data",
          "data": {
            "image/png": "[encoded data removed]",
            "text/plain": [
              "<Figure size 576x396 with 1 Axes>"
            ]
          },
          "metadata": {
            "tags": []
          }
        }
      ]
    },
    {
      "cell_type": "markdown",
      "metadata": {
        "id": "zNvGoUfWJVQQ"
      },
      "source": [
        "1. **Age and Embarked have few missing values**\n",
        "\n",
        "2. **Cabin have high number of missing values out of 891 entries , 687 entries are missing , so we can drop this column**"
      ]
    },
    {
      "cell_type": "markdown",
      "metadata": {
        "id": "7-vdQgouJ5CU"
      },
      "source": [
        "**B. Dropping Cabin feature**"
      ]
    },
    {
      "cell_type": "code",
      "metadata": {
        "id": "TV0Qcl2EEbzH"
      },
      "source": [
        "titanic_df = titanic_df.drop(\"Cabin\" , axis = 1)  #drop Cabine from axis =  1 i.e column"
      ],
      "execution_count": 27,
      "outputs": []
    },
    {
      "cell_type": "code",
      "metadata": {
        "colab": {
          "base_uri": "https://localhost:8080/",
          "height": 397
        },
        "id": "9CiZQisTEb4v",
        "outputId": "98a85ef8-1acc-45fc-b32d-e878b08a3b37"
      },
      "source": [
        "sns.heatmap(titanic_df.isnull(),cbar = False , cmap = \"viridis\");  #visualizing the missing values in data"
      ],
      "execution_count": 28,
      "outputs": [
        {
          "output_type": "display_data",
          "data": {
            "image/png": "[encoded data removed]",
            "text/plain": [
              "<Figure size 576x396 with 1 Axes>"
            ]
          },
          "metadata": {
            "tags": []
          }
        }
      ]
    },
    {
      "cell_type": "markdown",
      "metadata": {
        "id": "0P2GztMSKl9I"
      },
      "source": [
        "**Dropped Cabin Column**"
      ]
    },
    {
      "cell_type": "markdown",
      "metadata": {
        "id": "zqo09Hd8KqYY"
      },
      "source": [
        "**C. Handling Missing Data from Age and Embarked**"
      ]
    },
    {
      "cell_type": "code",
      "metadata": {
        "colab": {
          "base_uri": "https://localhost:8080/",
          "height": 435
        },
        "id": "0WWHArauEb-m",
        "outputId": "e045ace1-6c92-4fe3-ec69-efa8e71c7813"
      },
      "source": [
        "sns.distplot(titanic_df['Age']) #to get ditribution of Age"
      ],
      "execution_count": 29,
      "outputs": [
        {
          "output_type": "stream",
          "text": [
            "/usr/local/lib/python3.7/dist-packages/seaborn/distributions.py:2557: FutureWarning: `distplot` is a deprecated function and will be removed in a future version. Please adapt your code to use either `displot` (a figure-level function with similar flexibility) or `histplot` (an axes-level function for histograms).\n",
            "  warnings.warn(msg, FutureWarning)\n"
          ],
          "name": "stderr"
        },
        {
          "output_type": "execute_result",
          "data": {
            "text/plain": [
              "<matplotlib.axes._subplots.AxesSubplot at 0x7f6ba14ed490>"
            ]
          },
          "metadata": {
            "tags": []
          },
          "execution_count": 29
        },
        {
          "output_type": "display_data",
          "data": {
            "image/png": "[encoded data removed]",
            "text/plain": [
              "<Figure size 576x396 with 1 Axes>"
            ]
          },
          "metadata": {
            "tags": []
          }
        }
      ]
    },
    {
      "cell_type": "markdown",
      "metadata": {
        "id": "StqrxoZsLfid"
      },
      "source": [
        "**For Age feature lots of values lies around 20 to 40 and  we already seen that Average value for Age is 28 . so we can simply impute missing values with passengers average age**"
      ]
    },
    {
      "cell_type": "code",
      "metadata": {
        "id": "sXdB7q02kRoE"
      },
      "source": [
        "titanic_df['Age'] = titanic_df['Age'].fillna(titanic_df['Age'].mean())   #filling missing age value"
      ],
      "execution_count": 30,
      "outputs": []
    },
    {
      "cell_type": "code",
      "metadata": {
        "colab": {
          "base_uri": "https://localhost:8080/"
        },
        "id": "OyJUrH9dEcF6",
        "outputId": "ad91ba96-8848-4cf2-a08d-11430fd572c2"
      },
      "source": [
        "titanic_df.Age.isnull().sum() #should be zero because we filled missing value with its Average"
      ],
      "execution_count": 31,
      "outputs": [
        {
          "output_type": "execute_result",
          "data": {
            "text/plain": [
              "0"
            ]
          },
          "metadata": {
            "tags": []
          },
          "execution_count": 31
        }
      ]
    },
    {
      "cell_type": "code",
      "metadata": {
        "id": "qhVSBnUET6L-",
        "colab": {
          "base_uri": "https://localhost:8080/",
          "height": 397
        },
        "outputId": "4e972f99-144f-4277-994d-5b6fd459fc01"
      },
      "source": [
        "sns.heatmap(titanic_df.isnull(),cbar = False , cmap = \"viridis\");  #to visualize if data is filled or not"
      ],
      "execution_count": 32,
      "outputs": [
        {
          "output_type": "display_data",
          "data": {
            "image/png": "[encoded data removed]",
            "text/plain": [
              "<Figure size 576x396 with 1 Axes>"
            ]
          },
          "metadata": {
            "tags": []
          }
        }
      ]
    },
    {
      "cell_type": "markdown",
      "metadata": {
        "id": "P0CfNJm_lFhy"
      },
      "source": [
        "**D. Imputing values for Embarked**"
      ]
    },
    {
      "cell_type": "markdown",
      "metadata": {
        "id": "P_cmeeMZlbOV"
      },
      "source": [
        "**we visualize mode for categorical data**"
      ]
    },
    {
      "cell_type": "code",
      "metadata": {
        "colab": {
          "base_uri": "https://localhost:8080/",
          "height": 379
        },
        "id": "LemF8hV_OeOY",
        "outputId": "7bc2dac4-5c26-4f83-ceb6-935f13286077"
      },
      "source": [
        "sns.countplot(x = 'Embarked' , data = titanic_df)"
      ],
      "execution_count": 33,
      "outputs": [
        {
          "output_type": "execute_result",
          "data": {
            "text/plain": [
              "<matplotlib.axes._subplots.AxesSubplot at 0x7f6b95d50b90>"
            ]
          },
          "metadata": {
            "tags": []
          },
          "execution_count": 33
        },
        {
          "output_type": "display_data",
          "data": {
            "image/png": "[encoded data removed]",
            "text/plain": [
              "<Figure size 576x396 with 1 Axes>"
            ]
          },
          "metadata": {
            "tags": []
          }
        }
      ]
    },
    {
      "cell_type": "markdown",
      "metadata": {
        "id": "hDF12j7llnEe"
      },
      "source": [
        "**\"S\" have high frequecny among all other values**"
      ]
    },
    {
      "cell_type": "code",
      "metadata": {
        "id": "-av00ddolXvh"
      },
      "source": [
        "titanic_df['Embarked']  = titanic_df['Embarked'].fillna(\"S\")"
      ],
      "execution_count": 34,
      "outputs": []
    },
    {
      "cell_type": "code",
      "metadata": {
        "colab": {
          "base_uri": "https://localhost:8080/"
        },
        "id": "6c8Qbsh2l05D",
        "outputId": "103c3e68-7992-467d-81f0-674b0a30af04"
      },
      "source": [
        "titanic_df.isnull().sum()"
      ],
      "execution_count": 35,
      "outputs": [
        {
          "output_type": "execute_result",
          "data": {
            "text/plain": [
              "PassengerId    0\n",
              "Survived       0\n",
              "Pclass         0\n",
              "Name           0\n",
              "Sex            0\n",
              "Age            0\n",
              "SibSp          0\n",
              "Parch          0\n",
              "Ticket         0\n",
              "Fare           0\n",
              "Embarked       0\n",
              "dtype: int64"
            ]
          },
          "metadata": {
            "tags": []
          },
          "execution_count": 35
        }
      ]
    },
    {
      "cell_type": "markdown",
      "metadata": {
        "id": "s4sZR05xmNLa"
      },
      "source": [
        "**all missing values have been imputed**"
      ]
    },
    {
      "cell_type": "markdown",
      "metadata": {
        "id": "40Ae1nmWmy8o"
      },
      "source": [
        "**Exploratory data analysis**"
      ]
    },
    {
      "cell_type": "markdown",
      "metadata": {
        "id": "Q3Zmd10Zmyym"
      },
      "source": [
        ""
      ]
    },
    {
      "cell_type": "code",
      "metadata": {
        "id": "PcZ7XC0KxuVG"
      },
      "source": [
        "total_passengers = titanic_df.shape[0] #to get total number of passengers"
      ],
      "execution_count": 36,
      "outputs": []
    },
    {
      "cell_type": "code",
      "metadata": {
        "colab": {
          "base_uri": "https://localhost:8080/"
        },
        "id": "mMf4-nDQ0Kg-",
        "outputId": "3a41d093-d150-4a9b-aa6d-ba2a5441bf0b"
      },
      "source": [
        "titanic_df['Survived'].value_counts() # 0 --> passenger didn't survive and 1--> passenger survived"
      ],
      "execution_count": 37,
      "outputs": [
        {
          "output_type": "execute_result",
          "data": {
            "text/plain": [
              "0    549\n",
              "1    342\n",
              "Name: Survived, dtype: int64"
            ]
          },
          "metadata": {
            "tags": []
          },
          "execution_count": 37
        }
      ]
    },
    {
      "cell_type": "code",
      "metadata": {
        "id": "RCQZ4r7dmK6g"
      },
      "source": [
        "titanic_survived = titanic_df['Survived'].value_counts()[1]  #return number of passengers survived"
      ],
      "execution_count": 38,
      "outputs": []
    },
    {
      "cell_type": "code",
      "metadata": {
        "colab": {
          "base_uri": "https://localhost:8080/"
        },
        "id": "3vRLbqNvdzak",
        "outputId": "a588d1fd-62da-4431-cbee-09bc663ea860"
      },
      "source": [
        "survived_passengers = titanic_survived/total_passengers * 100\n",
        "f = '{0:.4g}'.format(survived_passengers)\n",
        "\n",
        "print(f'{f}% passengers survived')"
      ],
      "execution_count": 39,
      "outputs": [
        {
          "output_type": "stream",
          "text": [
            "38.38% passengers survived\n"
          ],
          "name": "stdout"
        }
      ]
    },
    {
      "cell_type": "code",
      "metadata": {
        "colab": {
          "base_uri": "https://localhost:8080/",
          "height": 417
        },
        "id": "Hs61ik_Ckxuu",
        "outputId": "acf8c22c-a731-47cc-f7c2-1ef26d0fac9f"
      },
      "source": [
        "sns.countplot(titanic_df.Survived)\n",
        "plt.show()"
      ],
      "execution_count": 40,
      "outputs": [
        {
          "output_type": "stream",
          "text": [
            "/usr/local/lib/python3.7/dist-packages/seaborn/_decorators.py:43: FutureWarning: Pass the following variable as a keyword arg: x. From version 0.12, the only valid positional argument will be `data`, and passing other arguments without an explicit keyword will result in an error or misinterpretation.\n",
            "  FutureWarning\n"
          ],
          "name": "stderr"
        },
        {
          "output_type": "display_data",
          "data": {
            "image/png": "[encoded data removed]",
            "text/plain": [
              "<Figure size 576x396 with 1 Axes>"
            ]
          },
          "metadata": {
            "tags": []
          }
        }
      ]
    },
    {
      "cell_type": "markdown",
      "metadata": {
        "id": "rgxzLZod1WLU"
      },
      "source": [
        "**1. More than 61% people died in titanic tragedy**\n",
        "\n",
        "\n",
        "**2. From this sample data we can see more than 500 passengers died and only near about 300 survived**\n"
      ]
    },
    {
      "cell_type": "markdown",
      "metadata": {
        "id": "n12iQK9vcRT9"
      },
      "source": [
        "**Now, let's write a function to visualize insights among predictors and outcome** "
      ]
    },
    {
      "cell_type": "code",
      "metadata": {
        "id": "rliQ07b10FMt"
      },
      "source": [
        "def countplot(column,data,hue):\n",
        "  sns.countplot(x = column , data = data , hue = hue ,palette= 'rainbow')\n",
        "  plt.show()"
      ],
      "execution_count": 41,
      "outputs": []
    },
    {
      "cell_type": "code",
      "metadata": {
        "id": "Z4fVr35LdAp4"
      },
      "source": [
        "passengers_survived = titanic_df[(titanic_df['Survived']==1)]   #to filter the dataset where passenger survived\n",
        "passengers_not_survived = titanic_df[(titanic_df['Survived']==0)]   #to filter the dataset where passenger not survived"
      ],
      "execution_count": 42,
      "outputs": []
    },
    {
      "cell_type": "code",
      "metadata": {
        "colab": {
          "base_uri": "https://localhost:8080/"
        },
        "id": "TdFHnCgBddlG",
        "outputId": "b21d1b03-0c15-48a7-c0d1-a57f80105875"
      },
      "source": [
        "female_passengers_survived = passengers_survived[titanic_df['Sex']==\"female\"] ##to filter the dataset where Sex is female and survived\n",
        "f_female = female_passengers_survived.shape[0]*100 / passengers_survived.shape[0]  #to get percentage of female passengers survived\n",
        "\n",
        "f = '{0:.4g}'.format(f_female)\n",
        "\n",
        "print(f'{f}% female passengers survived')"
      ],
      "execution_count": 43,
      "outputs": [
        {
          "output_type": "stream",
          "text": [
            "68.13% female passengers survived\n"
          ],
          "name": "stdout"
        }
      ]
    },
    {
      "cell_type": "code",
      "metadata": {
        "colab": {
          "base_uri": "https://localhost:8080/"
        },
        "id": "zA9TTpRPe3Ez",
        "outputId": "1439f86f-3e29-466c-9064-bf7f5664dc9c"
      },
      "source": [
        "male_passengers_survivied = passengers_survived[titanic_df['Sex']=='male']  #to filter the dataset where sex is male and he survived\n",
        "f_male = male_passengers_survivied.shape[0]*100 / passengers_survived.shape[0] #to get percentage of male passengers survived\n",
        "f = '{0:.4g}'.format(f_male)\n",
        "\n",
        "print(f'{f}% male passengers survived')"
      ],
      "execution_count": 44,
      "outputs": [
        {
          "output_type": "stream",
          "text": [
            "31.87% male passengers survived\n"
          ],
          "name": "stdout"
        }
      ]
    },
    {
      "cell_type": "code",
      "metadata": {
        "colab": {
          "base_uri": "https://localhost:8080/",
          "height": 361
        },
        "id": "mlufqa--fHo1",
        "outputId": "24d1d5db-d30b-432a-fc2c-d67209d7b81d"
      },
      "source": [
        "countplot(\"Survived\" , titanic_df , \"Sex\")"
      ],
      "execution_count": 45,
      "outputs": [
        {
          "output_type": "display_data",
          "data": {
            "image/png": "[encoded data removed]",
            "text/plain": [
              "<Figure size 576x396 with 1 Axes>"
            ]
          },
          "metadata": {
            "tags": []
          }
        }
      ]
    },
    {
      "cell_type": "code",
      "metadata": {
        "colab": {
          "base_uri": "https://localhost:8080/",
          "height": 361
        },
        "id": "ljA07NwKjApt",
        "outputId": "c8f3d236-50da-4caa-f503-b79c9d3a110f"
      },
      "source": [
        "countplot(\"Survived\" , passengers_survived , hue = \"Sex\")"
      ],
      "execution_count": 46,
      "outputs": [
        {
          "output_type": "display_data",
          "data": {
            "image/png": "[encoded data removed]",
            "text/plain": [
              "<Figure size 576x396 with 1 Axes>"
            ]
          },
          "metadata": {
            "tags": []
          }
        }
      ]
    },
    {
      "cell_type": "markdown",
      "metadata": {
        "id": "-kYSdfKkhnb4"
      },
      "source": [
        "**1. From countplot we can clearly see those passengers who had survived have  more number of females than males.**\n",
        "\n",
        "\n",
        "**2. 68.13% females passengers survived while only 31.87% male passengers survived.**\n",
        "\n",
        "**3. This analysis shows females were priortised.**"
      ]
    },
    {
      "cell_type": "code",
      "metadata": {
        "colab": {
          "base_uri": "https://localhost:8080/",
          "height": 361
        },
        "id": "AIqPVdOGi81k",
        "outputId": "b2b14065-69c0-465b-c749-a5463502337f"
      },
      "source": [
        "countplot(\"Survived\" , passengers_survived , hue = 'Embarked')"
      ],
      "execution_count": 47,
      "outputs": [
        {
          "output_type": "display_data",
          "data": {
            "image/png": "[encoded data removed]",
            "text/plain": [
              "<Figure size 576x396 with 1 Axes>"
            ]
          },
          "metadata": {
            "tags": []
          }
        }
      ]
    },
    {
      "cell_type": "code",
      "metadata": {
        "colab": {
          "base_uri": "https://localhost:8080/",
          "height": 361
        },
        "id": "E-GiBEHGkjql",
        "outputId": "3f461fab-89f5-4d9f-af6e-483b14945e05"
      },
      "source": [
        "countplot(\"Survived\" , passengers_not_survived , hue = 'Embarked')"
      ],
      "execution_count": 48,
      "outputs": [
        {
          "output_type": "display_data",
          "data": {
            "image/png": "[encoded data removed]",
            "text/plain": [
              "<Figure size 576x396 with 1 Axes>"
            ]
          },
          "metadata": {
            "tags": []
          }
        }
      ]
    },
    {
      "cell_type": "code",
      "metadata": {
        "colab": {
          "base_uri": "https://localhost:8080/",
          "height": 361
        },
        "id": "9dYS5iEzktS9",
        "outputId": "854ff712-8419-40ce-a443-8f88cca2d0c5"
      },
      "source": [
        "countplot(\"Survived\" , titanic_df , hue = 'Embarked')"
      ],
      "execution_count": 49,
      "outputs": [
        {
          "output_type": "display_data",
          "data": {
            "image/png": "[encoded data removed]",
            "text/plain": [
              "<Figure size 576x396 with 1 Axes>"
            ]
          },
          "metadata": {
            "tags": []
          }
        }
      ]
    },
    {
      "cell_type": "code",
      "metadata": {
        "colab": {
          "base_uri": "https://localhost:8080/",
          "height": 361
        },
        "id": "PYHA65mCjgHX",
        "outputId": "46b958bc-de12-43d6-cb34-04120c2fa23f"
      },
      "source": [
        "countplot(\"Survived\" , passengers_survived , hue = 'Pclass')"
      ],
      "execution_count": 50,
      "outputs": [
        {
          "output_type": "display_data",
          "data": {
            "image/png": "[encoded data removed]",
            "text/plain": [
              "<Figure size 576x396 with 1 Axes>"
            ]
          },
          "metadata": {
            "tags": []
          }
        }
      ]
    },
    {
      "cell_type": "code",
      "metadata": {
        "colab": {
          "base_uri": "https://localhost:8080/",
          "height": 361
        },
        "id": "M9xPA6xljrH3",
        "outputId": "531a7222-9f3e-4982-c62d-025f04411569"
      },
      "source": [
        "countplot(\"Survived\" , passengers_not_survived , hue = \"Pclass\")"
      ],
      "execution_count": 51,
      "outputs": [
        {
          "output_type": "display_data",
          "data": {
            "image/png": "[encoded data removed]",
            "text/plain": [
              "<Figure size 576x396 with 1 Axes>"
            ]
          },
          "metadata": {
            "tags": []
          }
        }
      ]
    },
    {
      "cell_type": "markdown",
      "metadata": {
        "id": "QfT5xnkzjT4C"
      },
      "source": [
        "**1.Passengers from Embarked \"C\" survived the most while people from Embarked \"Q\" didn't survived.**\n",
        "\n",
        "**2. Passengers who were living in Pclass 1 survived the most while Passengers from Pclass 3 didn't Survived.**"
      ]
    },
    {
      "cell_type": "code",
      "metadata": {
        "colab": {
          "base_uri": "https://localhost:8080/"
        },
        "id": "hA84BtbQjRtj",
        "outputId": "4d7ae372-f1c1-4f39-d9f3-7fbb8648739f"
      },
      "source": [
        "titanic_df.columns"
      ],
      "execution_count": 52,
      "outputs": [
        {
          "output_type": "execute_result",
          "data": {
            "text/plain": [
              "Index(['PassengerId', 'Survived', 'Pclass', 'Name', 'Sex', 'Age', 'SibSp',\n",
              "       'Parch', 'Ticket', 'Fare', 'Embarked'],\n",
              "      dtype='object')"
            ]
          },
          "metadata": {
            "tags": []
          },
          "execution_count": 52
        }
      ]
    },
    {
      "cell_type": "code",
      "metadata": {
        "colab": {
          "base_uri": "https://localhost:8080/",
          "height": 361
        },
        "id": "uozaUbPFnbLM",
        "outputId": "5497d730-30bd-437a-caf6-247708c0c3e5"
      },
      "source": [
        "countplot(\"Survived\" , titanic_df,\"Parch\")"
      ],
      "execution_count": 53,
      "outputs": [
        {
          "output_type": "display_data",
          "data": {
            "image/png": "[encoded data removed]",
            "text/plain": [
              "<Figure size 576x396 with 1 Axes>"
            ]
          },
          "metadata": {
            "tags": []
          }
        }
      ]
    },
    {
      "cell_type": "code",
      "metadata": {
        "colab": {
          "base_uri": "https://localhost:8080/",
          "height": 361
        },
        "id": "XmIfGoXtnjHi",
        "outputId": "f493e656-ff22-4c6d-ab07-3fa45de9448d"
      },
      "source": [
        "countplot(\"Survived\" , passengers_not_survived , \"Parch\")"
      ],
      "execution_count": 54,
      "outputs": [
        {
          "output_type": "display_data",
          "data": {
            "image/png": "[encoded data removed]",
            "text/plain": [
              "<Figure size 576x396 with 1 Axes>"
            ]
          },
          "metadata": {
            "tags": []
          }
        }
      ]
    },
    {
      "cell_type": "code",
      "metadata": {
        "colab": {
          "base_uri": "https://localhost:8080/",
          "height": 361
        },
        "id": "dUt59H4vntjr",
        "outputId": "519fe2a6-eafd-4e83-99a4-81158e2b6d4c"
      },
      "source": [
        "countplot(\"Survived\" , passengers_survived , \"Parch\")"
      ],
      "execution_count": 55,
      "outputs": [
        {
          "output_type": "display_data",
          "data": {
            "image/png": "[encoded data removed]",
            "text/plain": [
              "<Figure size 576x396 with 1 Axes>"
            ]
          },
          "metadata": {
            "tags": []
          }
        }
      ]
    },
    {
      "cell_type": "code",
      "metadata": {
        "colab": {
          "base_uri": "https://localhost:8080/",
          "height": 361
        },
        "id": "angk7qJPnxdr",
        "outputId": "3fd7ccda-082d-4457-f52d-bc248240df34"
      },
      "source": [
        "countplot(\"Survived\" , passengers_not_survived , \"SibSp\")"
      ],
      "execution_count": 56,
      "outputs": [
        {
          "output_type": "display_data",
          "data": {
            "image/png": "[encoded data removed]",
            "text/plain": [
              "<Figure size 576x396 with 1 Axes>"
            ]
          },
          "metadata": {
            "tags": []
          }
        }
      ]
    },
    {
      "cell_type": "code",
      "metadata": {
        "colab": {
          "base_uri": "https://localhost:8080/",
          "height": 361
        },
        "id": "B3ROFUQ5n9nk",
        "outputId": "89958012-1937-49c2-e354-287f6d12a51d"
      },
      "source": [
        "countplot(\"Survived\" , passengers_survived , \"SibSp\")"
      ],
      "execution_count": 57,
      "outputs": [
        {
          "output_type": "display_data",
          "data": {
            "image/png": "[encoded data removed]",
            "text/plain": [
              "<Figure size 576x396 with 1 Axes>"
            ]
          },
          "metadata": {
            "tags": []
          }
        }
      ]
    },
    {
      "cell_type": "code",
      "metadata": {
        "colab": {
          "base_uri": "https://localhost:8080/",
          "height": 361
        },
        "id": "zAED1oxaoEos",
        "outputId": "c3402175-75d2-4cc2-dd78-f9f9b0c8e5b6"
      },
      "source": [
        "countplot(\"Survived\" , titanic_df , \"SibSp\")"
      ],
      "execution_count": 58,
      "outputs": [
        {
          "output_type": "display_data",
          "data": {
            "image/png": "[encoded data removed]",
            "text/plain": [
              "<Figure size 576x396 with 1 Axes>"
            ]
          },
          "metadata": {
            "tags": []
          }
        }
      ]
    },
    {
      "cell_type": "markdown",
      "metadata": {
        "id": "FId8Mbq-oc8Q"
      },
      "source": [
        "## **Question - Did survival rate depend on the fare amount the passenger paid?**"
      ]
    },
    {
      "cell_type": "code",
      "metadata": {
        "colab": {
          "base_uri": "https://localhost:8080/"
        },
        "id": "fpsHK9fCoVGE",
        "outputId": "e2a1da4d-8e77-41f9-f78a-ea128301480c"
      },
      "source": [
        "titanic_df['Fare'].describe() #to get statistics of FARE feature"
      ],
      "execution_count": 59,
      "outputs": [
        {
          "output_type": "execute_result",
          "data": {
            "text/plain": [
              "count    891.000000\n",
              "mean      32.204208\n",
              "std       49.693429\n",
              "min        0.000000\n",
              "25%        7.910400\n",
              "50%       14.454200\n",
              "75%       31.000000\n",
              "max      512.329200\n",
              "Name: Fare, dtype: float64"
            ]
          },
          "metadata": {
            "tags": []
          },
          "execution_count": 59
        }
      ]
    },
    {
      "cell_type": "code",
      "metadata": {
        "colab": {
          "base_uri": "https://localhost:8080/"
        },
        "id": "fIpfUy2QqfAW",
        "outputId": "3d55a9e1-e28c-4996-b5c7-983592da97d8"
      },
      "source": [
        "titanic_df['Fare'].head()"
      ],
      "execution_count": 60,
      "outputs": [
        {
          "output_type": "execute_result",
          "data": {
            "text/plain": [
              "0     7.2500\n",
              "1    71.2833\n",
              "2     7.9250\n",
              "3    53.1000\n",
              "4     8.0500\n",
              "Name: Fare, dtype: float64"
            ]
          },
          "metadata": {
            "tags": []
          },
          "execution_count": 60
        }
      ]
    },
    {
      "cell_type": "markdown",
      "metadata": {
        "id": "XbraxuDUqLZZ"
      },
      "source": [
        "**Fare range - 0 to 512**\n",
        "\n",
        "**As Fare contains continuous data so first we need to group data in such a way so we can divide it into intervals**"
      ]
    },
    {
      "cell_type": "code",
      "metadata": {
        "id": "ZAjJf0ZOo7H-"
      },
      "source": [
        "titanic_df['Fare_Intervals'] = pd.cut(titanic_df.Fare, [0,50,100,150,200,550]) #using pandas cut function to distribute data in intervals of 50"
      ],
      "execution_count": 61,
      "outputs": []
    },
    {
      "cell_type": "code",
      "metadata": {
        "colab": {
          "base_uri": "https://localhost:8080/",
          "height": 228
        },
        "id": "LFeoJh5erQhx",
        "outputId": "afcf6fd7-030a-4070-ae0b-a35a13d4240b"
      },
      "source": [
        "piv_fare = titanic_df.pivot_table(index='Fare_Intervals', columns='Survived', values = 'Fare', aggfunc='count')\n",
        "piv_fare"
      ],
      "execution_count": 62,
      "outputs": [
        {
          "output_type": "execute_result",
          "data": {
            "text/html": [
              "<div>\n",
              "<style scoped>\n",
              "    .dataframe tbody tr th:only-of-type {\n",
              "        vertical-align: middle;\n",
              "    }\n",
              "\n",
              "    .dataframe tbody tr th {\n",
              "        vertical-align: top;\n",
              "    }\n",
              "\n",
              "    .dataframe thead th {\n",
              "        text-align: right;\n",
              "    }\n",
              "</style>\n",
              "<table border=\"1\" class=\"dataframe\">\n",
              "  <thead>\n",
              "    <tr style=\"text-align: right;\">\n",
              "      <th>Survived</th>\n",
              "      <th>0</th>\n",
              "      <th>1</th>\n",
              "    </tr>\n",
              "    <tr>\n",
              "      <th>Fare_Intervals</th>\n",
              "      <th></th>\n",
              "      <th></th>\n",
              "    </tr>\n",
              "  </thead>\n",
              "  <tbody>\n",
              "    <tr>\n",
              "      <th>(0, 50]</th>\n",
              "      <td>484</td>\n",
              "      <td>232</td>\n",
              "    </tr>\n",
              "    <tr>\n",
              "      <th>(50, 100]</th>\n",
              "      <td>37</td>\n",
              "      <td>70</td>\n",
              "    </tr>\n",
              "    <tr>\n",
              "      <th>(100, 150]</th>\n",
              "      <td>5</td>\n",
              "      <td>19</td>\n",
              "    </tr>\n",
              "    <tr>\n",
              "      <th>(150, 200]</th>\n",
              "      <td>3</td>\n",
              "      <td>6</td>\n",
              "    </tr>\n",
              "    <tr>\n",
              "      <th>(200, 550]</th>\n",
              "      <td>6</td>\n",
              "      <td>14</td>\n",
              "    </tr>\n",
              "  </tbody>\n",
              "</table>\n",
              "</div>"
            ],
            "text/plain": [
              "Survived          0    1\n",
              "Fare_Intervals          \n",
              "(0, 50]         484  232\n",
              "(50, 100]        37   70\n",
              "(100, 150]        5   19\n",
              "(150, 200]        3    6\n",
              "(200, 550]        6   14"
            ]
          },
          "metadata": {
            "tags": []
          },
          "execution_count": 62
        }
      ]
    },
    {
      "cell_type": "code",
      "metadata": {
        "colab": {
          "base_uri": "https://localhost:8080/",
          "height": 396
        },
        "id": "7t06eu0frbGl",
        "outputId": "e47e873d-236e-4023-909a-6d2421ab5998"
      },
      "source": [
        "piv_fare.plot(kind ='bar');"
      ],
      "execution_count": 63,
      "outputs": [
        {
          "output_type": "display_data",
          "data": {
            "image/png": "[encoded data removed]",
            "text/plain": [
              "<Figure size 576x396 with 1 Axes>"
            ]
          },
          "metadata": {
            "tags": []
          }
        }
      ]
    },
    {
      "cell_type": "markdown",
      "metadata": {
        "id": "74dJ_PnErr8S"
      },
      "source": [
        "**1. Survival rate indeed depend on Fare price.**\n",
        "\n",
        "**2. Interstingly ,those who had the cheapest tickets (0 to 50) had the lowest chance of survival. In fact, (0 to 50) is the only fare range where the chance to die is higher than the chance to survive.**"
      ]
    },
    {
      "cell_type": "markdown",
      "metadata": {
        "id": "krr7sCaOsvNF"
      },
      "source": [
        "## **Outliers detection**"
      ]
    },
    {
      "cell_type": "code",
      "metadata": {
        "colab": {
          "base_uri": "https://localhost:8080/",
          "height": 379
        },
        "id": "RqXPbkvUro3L",
        "outputId": "49b520cc-403a-4b27-922e-a0f83426c1be"
      },
      "source": [
        "sns.boxplot(x = \"Fare\" , data = titanic_df)"
      ],
      "execution_count": 64,
      "outputs": [
        {
          "output_type": "execute_result",
          "data": {
            "text/plain": [
              "<matplotlib.axes._subplots.AxesSubplot at 0x7f6b983076d0>"
            ]
          },
          "metadata": {
            "tags": []
          },
          "execution_count": 64
        },
        {
          "output_type": "display_data",
          "data": {
            "image/png": "[encoded data removed]",
            "text/plain": [
              "<Figure size 576x396 with 1 Axes>"
            ]
          },
          "metadata": {
            "tags": []
          }
        }
      ]
    },
    {
      "cell_type": "markdown",
      "metadata": {
        "id": "4Z2wXvmJvJkP"
      },
      "source": [
        "**it seems , Fare column has  outliers beyound 200 so we can replace this with median Fare**"
      ]
    },
    {
      "cell_type": "code",
      "metadata": {
        "colab": {
          "base_uri": "https://localhost:8080/",
          "height": 379
        },
        "id": "8amVGcdVteXc",
        "outputId": "a71f1fcb-7019-4dfe-da76-53c2f4196738"
      },
      "source": [
        "sns.boxplot(x = \"Age\" , data = titanic_df)"
      ],
      "execution_count": 65,
      "outputs": [
        {
          "output_type": "execute_result",
          "data": {
            "text/plain": [
              "<matplotlib.axes._subplots.AxesSubplot at 0x7f6b95ae6c50>"
            ]
          },
          "metadata": {
            "tags": []
          },
          "execution_count": 65
        },
        {
          "output_type": "display_data",
          "data": {
            "image/png": "[encoded data removed]",
            "text/plain": [
              "<Figure size 576x396 with 1 Axes>"
            ]
          },
          "metadata": {
            "tags": []
          }
        }
      ]
    },
    {
      "cell_type": "code",
      "metadata": {
        "id": "Ai1t0fxYtt4r"
      },
      "source": [
        "titanic_df['Fare'] = np.where(titanic_df[\"Fare\"]>=200 ,titanic_df[\"Fare\"].median() , titanic_df[\"Fare\"])"
      ],
      "execution_count": 66,
      "outputs": []
    },
    {
      "cell_type": "code",
      "metadata": {
        "colab": {
          "base_uri": "https://localhost:8080/",
          "height": 361
        },
        "id": "KvmaqhnZujws",
        "outputId": "004fa408-27f7-4395-e740-2bd371bc32c6"
      },
      "source": [
        "sns.boxplot(x = \"Fare\" , data = titanic_df);"
      ],
      "execution_count": 67,
      "outputs": [
        {
          "output_type": "display_data",
          "data": {
            "image/png": "[encoded data removed]",
            "text/plain": [
              "<Figure size 576x396 with 1 Axes>"
            ]
          },
          "metadata": {
            "tags": []
          }
        }
      ]
    },
    {
      "cell_type": "markdown",
      "metadata": {
        "id": "BEpkrfrgvkS6"
      },
      "source": [
        "## **One HOT Encoding Data**\n",
        "1. we use Label Encoding when we have Ordinal data i.e we can order our data example - ratings , cold,warm,hot.\n",
        "\n",
        "2. we use One Hot Encoding when we have Nominal Data i.e no order in data example - color , Sex"
      ]
    },
    {
      "cell_type": "code",
      "metadata": {
        "colab": {
          "base_uri": "https://localhost:8080/",
          "height": 250
        },
        "id": "VQREfVUzum-s",
        "outputId": "f779e59b-4c35-435a-f026-612a68791532"
      },
      "source": [
        "titanic_df.head()"
      ],
      "execution_count": 68,
      "outputs": [
        {
          "output_type": "execute_result",
          "data": {
            "text/html": [
              "<div>\n",
              "<style scoped>\n",
              "    .dataframe tbody tr th:only-of-type {\n",
              "        vertical-align: middle;\n",
              "    }\n",
              "\n",
              "    .dataframe tbody tr th {\n",
              "        vertical-align: top;\n",
              "    }\n",
              "\n",
              "    .dataframe thead th {\n",
              "        text-align: right;\n",
              "    }\n",
              "</style>\n",
              "<table border=\"1\" class=\"dataframe\">\n",
              "  <thead>\n",
              "    <tr style=\"text-align: right;\">\n",
              "      <th></th>\n",
              "      <th>PassengerId</th>\n",
              "      <th>Survived</th>\n",
              "      <th>Pclass</th>\n",
              "      <th>Name</th>\n",
              "      <th>Sex</th>\n",
              "      <th>Age</th>\n",
              "      <th>SibSp</th>\n",
              "      <th>Parch</th>\n",
              "      <th>Ticket</th>\n",
              "      <th>Fare</th>\n",
              "      <th>Embarked</th>\n",
              "      <th>Fare_Intervals</th>\n",
              "    </tr>\n",
              "  </thead>\n",
              "  <tbody>\n",
              "    <tr>\n",
              "      <th>0</th>\n",
              "      <td>1</td>\n",
              "      <td>0</td>\n",
              "      <td>3</td>\n",
              "      <td>Braund, Mr. Owen Harris</td>\n",
              "      <td>male</td>\n",
              "      <td>22.0</td>\n",
              "      <td>1</td>\n",
              "      <td>0</td>\n",
              "      <td>A/5 21171</td>\n",
              "      <td>7.2500</td>\n",
              "      <td>S</td>\n",
              "      <td>(0, 50]</td>\n",
              "    </tr>\n",
              "    <tr>\n",
              "      <th>1</th>\n",
              "      <td>2</td>\n",
              "      <td>1</td>\n",
              "      <td>1</td>\n",
              "      <td>Cumings, Mrs. John Bradley (Florence Briggs Th...</td>\n",
              "      <td>female</td>\n",
              "      <td>38.0</td>\n",
              "      <td>1</td>\n",
              "      <td>0</td>\n",
              "      <td>PC 17599</td>\n",
              "      <td>71.2833</td>\n",
              "      <td>C</td>\n",
              "      <td>(50, 100]</td>\n",
              "    </tr>\n",
              "    <tr>\n",
              "      <th>2</th>\n",
              "      <td>3</td>\n",
              "      <td>1</td>\n",
              "      <td>3</td>\n",
              "      <td>Heikkinen, Miss. Laina</td>\n",
              "      <td>female</td>\n",
              "      <td>26.0</td>\n",
              "      <td>0</td>\n",
              "      <td>0</td>\n",
              "      <td>STON/O2. 3101282</td>\n",
              "      <td>7.9250</td>\n",
              "      <td>S</td>\n",
              "      <td>(0, 50]</td>\n",
              "    </tr>\n",
              "    <tr>\n",
              "      <th>3</th>\n",
              "      <td>4</td>\n",
              "      <td>1</td>\n",
              "      <td>1</td>\n",
              "      <td>Futrelle, Mrs. Jacques Heath (Lily May Peel)</td>\n",
              "      <td>female</td>\n",
              "      <td>35.0</td>\n",
              "      <td>1</td>\n",
              "      <td>0</td>\n",
              "      <td>113803</td>\n",
              "      <td>53.1000</td>\n",
              "      <td>S</td>\n",
              "      <td>(50, 100]</td>\n",
              "    </tr>\n",
              "    <tr>\n",
              "      <th>4</th>\n",
              "      <td>5</td>\n",
              "      <td>0</td>\n",
              "      <td>3</td>\n",
              "      <td>Allen, Mr. William Henry</td>\n",
              "      <td>male</td>\n",
              "      <td>35.0</td>\n",
              "      <td>0</td>\n",
              "      <td>0</td>\n",
              "      <td>373450</td>\n",
              "      <td>8.0500</td>\n",
              "      <td>S</td>\n",
              "      <td>(0, 50]</td>\n",
              "    </tr>\n",
              "  </tbody>\n",
              "</table>\n",
              "</div>"
            ],
            "text/plain": [
              "   PassengerId  Survived  Pclass  ...     Fare Embarked  Fare_Intervals\n",
              "0            1         0       3  ...   7.2500        S         (0, 50]\n",
              "1            2         1       1  ...  71.2833        C       (50, 100]\n",
              "2            3         1       3  ...   7.9250        S         (0, 50]\n",
              "3            4         1       1  ...  53.1000        S       (50, 100]\n",
              "4            5         0       3  ...   8.0500        S         (0, 50]\n",
              "\n",
              "[5 rows x 12 columns]"
            ]
          },
          "metadata": {
            "tags": []
          },
          "execution_count": 68
        }
      ]
    },
    {
      "cell_type": "markdown",
      "metadata": {
        "id": "aCqTzOOgwXeD"
      },
      "source": [
        "**we can drop Name , PassengerId , Ticket , Fare_intervals**"
      ]
    },
    {
      "cell_type": "code",
      "metadata": {
        "id": "y0qscnu1vuRq"
      },
      "source": [
        "def drop_columns(name , data): # function to drop columns from data inplace\n",
        "  data = data.drop(name , axis = 1 , inplace = True)\n",
        "  "
      ],
      "execution_count": 69,
      "outputs": []
    },
    {
      "cell_type": "code",
      "metadata": {
        "id": "x8F8fSG1w36Y"
      },
      "source": [
        "drop_columns(['Name','PassengerId' , 'Ticket','Fare_Intervals'] , titanic_df) #dropping columns from data"
      ],
      "execution_count": 70,
      "outputs": []
    },
    {
      "cell_type": "code",
      "metadata": {
        "colab": {
          "base_uri": "https://localhost:8080/",
          "height": 198
        },
        "id": "twLdgQvCxHR-",
        "outputId": "ea172b23-65e8-4d7c-c11b-811b22e93063"
      },
      "source": [
        "titanic_df.head()"
      ],
      "execution_count": 71,
      "outputs": [
        {
          "output_type": "execute_result",
          "data": {
            "text/html": [
              "<div>\n",
              "<style scoped>\n",
              "    .dataframe tbody tr th:only-of-type {\n",
              "        vertical-align: middle;\n",
              "    }\n",
              "\n",
              "    .dataframe tbody tr th {\n",
              "        vertical-align: top;\n",
              "    }\n",
              "\n",
              "    .dataframe thead th {\n",
              "        text-align: right;\n",
              "    }\n",
              "</style>\n",
              "<table border=\"1\" class=\"dataframe\">\n",
              "  <thead>\n",
              "    <tr style=\"text-align: right;\">\n",
              "      <th></th>\n",
              "      <th>Survived</th>\n",
              "      <th>Pclass</th>\n",
              "      <th>Sex</th>\n",
              "      <th>Age</th>\n",
              "      <th>SibSp</th>\n",
              "      <th>Parch</th>\n",
              "      <th>Fare</th>\n",
              "      <th>Embarked</th>\n",
              "    </tr>\n",
              "  </thead>\n",
              "  <tbody>\n",
              "    <tr>\n",
              "      <th>0</th>\n",
              "      <td>0</td>\n",
              "      <td>3</td>\n",
              "      <td>male</td>\n",
              "      <td>22.0</td>\n",
              "      <td>1</td>\n",
              "      <td>0</td>\n",
              "      <td>7.2500</td>\n",
              "      <td>S</td>\n",
              "    </tr>\n",
              "    <tr>\n",
              "      <th>1</th>\n",
              "      <td>1</td>\n",
              "      <td>1</td>\n",
              "      <td>female</td>\n",
              "      <td>38.0</td>\n",
              "      <td>1</td>\n",
              "      <td>0</td>\n",
              "      <td>71.2833</td>\n",
              "      <td>C</td>\n",
              "    </tr>\n",
              "    <tr>\n",
              "      <th>2</th>\n",
              "      <td>1</td>\n",
              "      <td>3</td>\n",
              "      <td>female</td>\n",
              "      <td>26.0</td>\n",
              "      <td>0</td>\n",
              "      <td>0</td>\n",
              "      <td>7.9250</td>\n",
              "      <td>S</td>\n",
              "    </tr>\n",
              "    <tr>\n",
              "      <th>3</th>\n",
              "      <td>1</td>\n",
              "      <td>1</td>\n",
              "      <td>female</td>\n",
              "      <td>35.0</td>\n",
              "      <td>1</td>\n",
              "      <td>0</td>\n",
              "      <td>53.1000</td>\n",
              "      <td>S</td>\n",
              "    </tr>\n",
              "    <tr>\n",
              "      <th>4</th>\n",
              "      <td>0</td>\n",
              "      <td>3</td>\n",
              "      <td>male</td>\n",
              "      <td>35.0</td>\n",
              "      <td>0</td>\n",
              "      <td>0</td>\n",
              "      <td>8.0500</td>\n",
              "      <td>S</td>\n",
              "    </tr>\n",
              "  </tbody>\n",
              "</table>\n",
              "</div>"
            ],
            "text/plain": [
              "   Survived  Pclass     Sex   Age  SibSp  Parch     Fare Embarked\n",
              "0         0       3    male  22.0      1      0   7.2500        S\n",
              "1         1       1  female  38.0      1      0  71.2833        C\n",
              "2         1       3  female  26.0      0      0   7.9250        S\n",
              "3         1       1  female  35.0      1      0  53.1000        S\n",
              "4         0       3    male  35.0      0      0   8.0500        S"
            ]
          },
          "metadata": {
            "tags": []
          },
          "execution_count": 71
        }
      ]
    },
    {
      "cell_type": "code",
      "metadata": {
        "id": "Coi908MAxPm5"
      },
      "source": [
        "titanic_df = pd.get_dummies(data = titanic_df, columns=['Sex','Embarked'], drop_first=True)"
      ],
      "execution_count": 72,
      "outputs": []
    },
    {
      "cell_type": "code",
      "metadata": {
        "colab": {
          "base_uri": "https://localhost:8080/",
          "height": 198
        },
        "id": "-muiPZlOyduH",
        "outputId": "0e1127a3-e93d-43f0-ec37-f7d1050f531c"
      },
      "source": [
        "titanic_df.head() #where Sex_male is 0 that indicates female"
      ],
      "execution_count": 73,
      "outputs": [
        {
          "output_type": "execute_result",
          "data": {
            "text/html": [
              "<div>\n",
              "<style scoped>\n",
              "    .dataframe tbody tr th:only-of-type {\n",
              "        vertical-align: middle;\n",
              "    }\n",
              "\n",
              "    .dataframe tbody tr th {\n",
              "        vertical-align: top;\n",
              "    }\n",
              "\n",
              "    .dataframe thead th {\n",
              "        text-align: right;\n",
              "    }\n",
              "</style>\n",
              "<table border=\"1\" class=\"dataframe\">\n",
              "  <thead>\n",
              "    <tr style=\"text-align: right;\">\n",
              "      <th></th>\n",
              "      <th>Survived</th>\n",
              "      <th>Pclass</th>\n",
              "      <th>Age</th>\n",
              "      <th>SibSp</th>\n",
              "      <th>Parch</th>\n",
              "      <th>Fare</th>\n",
              "      <th>Sex_male</th>\n",
              "      <th>Embarked_Q</th>\n",
              "      <th>Embarked_S</th>\n",
              "    </tr>\n",
              "  </thead>\n",
              "  <tbody>\n",
              "    <tr>\n",
              "      <th>0</th>\n",
              "      <td>0</td>\n",
              "      <td>3</td>\n",
              "      <td>22.0</td>\n",
              "      <td>1</td>\n",
              "      <td>0</td>\n",
              "      <td>7.2500</td>\n",
              "      <td>1</td>\n",
              "      <td>0</td>\n",
              "      <td>1</td>\n",
              "    </tr>\n",
              "    <tr>\n",
              "      <th>1</th>\n",
              "      <td>1</td>\n",
              "      <td>1</td>\n",
              "      <td>38.0</td>\n",
              "      <td>1</td>\n",
              "      <td>0</td>\n",
              "      <td>71.2833</td>\n",
              "      <td>0</td>\n",
              "      <td>0</td>\n",
              "      <td>0</td>\n",
              "    </tr>\n",
              "    <tr>\n",
              "      <th>2</th>\n",
              "      <td>1</td>\n",
              "      <td>3</td>\n",
              "      <td>26.0</td>\n",
              "      <td>0</td>\n",
              "      <td>0</td>\n",
              "      <td>7.9250</td>\n",
              "      <td>0</td>\n",
              "      <td>0</td>\n",
              "      <td>1</td>\n",
              "    </tr>\n",
              "    <tr>\n",
              "      <th>3</th>\n",
              "      <td>1</td>\n",
              "      <td>1</td>\n",
              "      <td>35.0</td>\n",
              "      <td>1</td>\n",
              "      <td>0</td>\n",
              "      <td>53.1000</td>\n",
              "      <td>0</td>\n",
              "      <td>0</td>\n",
              "      <td>1</td>\n",
              "    </tr>\n",
              "    <tr>\n",
              "      <th>4</th>\n",
              "      <td>0</td>\n",
              "      <td>3</td>\n",
              "      <td>35.0</td>\n",
              "      <td>0</td>\n",
              "      <td>0</td>\n",
              "      <td>8.0500</td>\n",
              "      <td>1</td>\n",
              "      <td>0</td>\n",
              "      <td>1</td>\n",
              "    </tr>\n",
              "  </tbody>\n",
              "</table>\n",
              "</div>"
            ],
            "text/plain": [
              "   Survived  Pclass   Age  SibSp  ...     Fare  Sex_male  Embarked_Q  Embarked_S\n",
              "0         0       3  22.0      1  ...   7.2500         1           0           1\n",
              "1         1       1  38.0      1  ...  71.2833         0           0           0\n",
              "2         1       3  26.0      0  ...   7.9250         0           0           1\n",
              "3         1       1  35.0      1  ...  53.1000         0           0           1\n",
              "4         0       3  35.0      0  ...   8.0500         1           0           1\n",
              "\n",
              "[5 rows x 9 columns]"
            ]
          },
          "metadata": {
            "tags": []
          },
          "execution_count": 73
        }
      ]
    },
    {
      "cell_type": "code",
      "metadata": {
        "colab": {
          "base_uri": "https://localhost:8080/",
          "height": 418
        },
        "id": "cNZzV348yljR",
        "outputId": "301a1afa-c6ab-4791-d508-30d31630205b"
      },
      "source": [
        "sns.heatmap(titanic_df.corr() , annot = True , cmap = \"viridis\")  #to get correlation matrix in the form of heatmap"
      ],
      "execution_count": 74,
      "outputs": [
        {
          "output_type": "execute_result",
          "data": {
            "text/plain": [
              "<matplotlib.axes._subplots.AxesSubplot at 0x7f6b957f1390>"
            ]
          },
          "metadata": {
            "tags": []
          },
          "execution_count": 74
        },
        {
          "output_type": "display_data",
          "data": {
            "image/png": "[encoded data removed]",
            "text/plain": [
              "<Figure size 576x396 with 2 Axes>"
            ]
          },
          "metadata": {
            "tags": []
          }
        }
      ]
    },
    {
      "cell_type": "markdown",
      "metadata": {
        "id": "a_Ch4TCczQMi"
      },
      "source": [
        "## **Train_Test_Split**\n",
        "\n",
        "\n"
      ]
    },
    {
      "cell_type": "code",
      "metadata": {
        "colab": {
          "base_uri": "https://localhost:8080/"
        },
        "id": "hVgeCyKP0NCY",
        "outputId": "0a25bb69-dd8e-45f7-ac7a-cc23f65d8f6a"
      },
      "source": [
        "X = titanic_df.drop(\"Survived\" , axis = 1) #dropping target feature\n",
        "X.shape"
      ],
      "execution_count": 75,
      "outputs": [
        {
          "output_type": "execute_result",
          "data": {
            "text/plain": [
              "(891, 8)"
            ]
          },
          "metadata": {
            "tags": []
          },
          "execution_count": 75
        }
      ]
    },
    {
      "cell_type": "code",
      "metadata": {
        "colab": {
          "base_uri": "https://localhost:8080/"
        },
        "id": "lWyqvbKO0Mk4",
        "outputId": "cf79dea2-56d7-45eb-ed20-1868db65588d"
      },
      "source": [
        "y = titanic_df.Survived #target variable\n",
        "y.shape"
      ],
      "execution_count": 76,
      "outputs": [
        {
          "output_type": "execute_result",
          "data": {
            "text/plain": [
              "(891,)"
            ]
          },
          "metadata": {
            "tags": []
          },
          "execution_count": 76
        }
      ]
    },
    {
      "cell_type": "code",
      "metadata": {
        "id": "9VmRUkv6zFKp"
      },
      "source": [
        "from sklearn.model_selection import train_test_split"
      ],
      "execution_count": 77,
      "outputs": []
    },
    {
      "cell_type": "code",
      "metadata": {
        "colab": {
          "base_uri": "https://localhost:8080/"
        },
        "id": "uRM1w66h0Dwz",
        "outputId": "fcf02cce-7722-434a-8fd3-5e8b4c410b03"
      },
      "source": [
        "X_train , X_val ,y_train , y_val = train_test_split(X, y , test_size = 0.2 , random_state =42) #splitting data into train and validation data\n",
        "print(f'shape of feature train  data  is : {X_train.shape} and for target train data is: { y_train.shape}')\n",
        "print(f'shape of feature validation  data  is : {X_val.shape} and for target validation data is: { y_val.shape}')"
      ],
      "execution_count": 78,
      "outputs": [
        {
          "output_type": "stream",
          "text": [
            "shape of feature train  data  is : (712, 8) and for target train data is: (712,)\n",
            "shape of feature validation  data  is : (179, 8) and for target validation data is: (179,)\n"
          ],
          "name": "stdout"
        }
      ]
    },
    {
      "cell_type": "markdown",
      "metadata": {
        "id": "vSoX3PXB1-gj"
      },
      "source": [
        "## **model predictions**"
      ]
    },
    {
      "cell_type": "code",
      "metadata": {
        "id": "YLkVeuAn1tua"
      },
      "source": [
        "from sklearn import metrics\n",
        "import pickle\n",
        "def predict(ml_model,dump =0 ):  #a function to fit and make predictions on data\n",
        "    model = ml_model.fit(X_train ,y_train)\n",
        "    print(f'training score is : {model.score(X_train ,y_train)}')\n",
        "    predictions = model.predict(X_val)\n",
        "    print(f\"testing score is :{model.score(X_val,y_val)}\")\n",
        "    print(f'Accuracy is: {accuracy_score(predictions , y_val)}')\n",
        "  \n",
        "    sns.distplot(predictions - y_val)\n",
        "    if dump ==1:\n",
        "        file = open(\"model.pkl\",'wb')\n",
        "        pickle.dump(model,file)\n"
      ],
      "execution_count": 79,
      "outputs": []
    },
    {
      "cell_type": "code",
      "metadata": {
        "id": "Ur8-X9mc3LH7"
      },
      "source": [
        "from sklearn.ensemble import RandomForestClassifier\n"
      ],
      "execution_count": 80,
      "outputs": []
    },
    {
      "cell_type": "code",
      "metadata": {
        "id": "XhzQEAgZ3Vmw"
      },
      "source": [
        "model = RandomForestClassifier()"
      ],
      "execution_count": 81,
      "outputs": []
    },
    {
      "cell_type": "code",
      "metadata": {
        "colab": {
          "base_uri": "https://localhost:8080/",
          "height": 472
        },
        "id": "f7_E14873ZW8",
        "outputId": "d4b3c3d6-f23c-4c66-f5d0-f3196de2e3a8"
      },
      "source": [
        "predict(model)"
      ],
      "execution_count": 82,
      "outputs": [
        {
          "output_type": "stream",
          "text": [
            "training score is : 0.9803370786516854\n",
            "testing score is :0.7932960893854749\n",
            "Accuracy is: 0.7932960893854749\n"
          ],
          "name": "stdout"
        },
        {
          "output_type": "stream",
          "text": [
            "/usr/local/lib/python3.7/dist-packages/seaborn/distributions.py:2557: FutureWarning: `distplot` is a deprecated function and will be removed in a future version. Please adapt your code to use either `displot` (a figure-level function with similar flexibility) or `histplot` (an axes-level function for histograms).\n",
            "  warnings.warn(msg, FutureWarning)\n"
          ],
          "name": "stderr"
        },
        {
          "output_type": "display_data",
          "data": {
            "image/png": "[encoded data removed]",
            "text/plain": [
              "<Figure size 576x396 with 1 Axes>"
            ]
          },
          "metadata": {
            "tags": []
          }
        }
      ]
    },
    {
      "cell_type": "markdown",
      "metadata": {
        "id": "reTPp4Hc6cu4"
      },
      "source": [
        "### **Random forest classifier gives accuracy of 81.56% we can use cross validation techniques to improve accuracy a bit further**"
      ]
    },
    {
      "cell_type": "markdown",
      "metadata": {
        "id": "oxO1LoT842qE"
      },
      "source": [
        "## **Hyper parameter tuning using cross validation techniques**"
      ]
    },
    {
      "cell_type": "code",
      "metadata": {
        "id": "ksoQIL6i4DbV"
      },
      "source": [
        "from sklearn.model_selection import RandomizedSearchCV\n",
        "n_estimators = [int(x) for x in np.linspace(50,1200,num = 6)]\n",
        "max_depth = [int(x) for x in np.linspace(5,30 , num = 4)]"
      ],
      "execution_count": 83,
      "outputs": []
    },
    {
      "cell_type": "code",
      "metadata": {
        "id": "TeHEVOUc5I-I"
      },
      "source": [
        "random_grid = {\n",
        "    'n_estimators':n_estimators,\n",
        "    'max_features':['auto','sqrt'],\n",
        "    'max_depth':max_depth,\n",
        "    'min_samples_split':[5,10,15,100]\n",
        "}"
      ],
      "execution_count": 84,
      "outputs": []
    },
    {
      "cell_type": "code",
      "metadata": {
        "colab": {
          "base_uri": "https://localhost:8080/"
        },
        "id": "3SMCpGzu5Nh-",
        "outputId": "d139ea04-aea6-43f1-ee74-8f45e7467010"
      },
      "source": [
        "random_grid"
      ],
      "execution_count": 85,
      "outputs": [
        {
          "output_type": "execute_result",
          "data": {
            "text/plain": [
              "{'max_depth': [5, 13, 21, 30],\n",
              " 'max_features': ['auto', 'sqrt'],\n",
              " 'min_samples_split': [5, 10, 15, 100],\n",
              " 'n_estimators': [50, 280, 510, 740, 970, 1200]}"
            ]
          },
          "metadata": {
            "tags": []
          },
          "execution_count": 85
        }
      ]
    },
    {
      "cell_type": "code",
      "metadata": {
        "id": "WU1jn-yZ5QtD"
      },
      "source": [
        "random_cv = RandomizedSearchCV(estimator=model , param_distributions=random_grid , verbose=2,cv = 3 , n_jobs=-1)"
      ],
      "execution_count": 86,
      "outputs": []
    },
    {
      "cell_type": "code",
      "metadata": {
        "colab": {
          "base_uri": "https://localhost:8080/",
          "height": 526
        },
        "id": "SeuFeINA5u5r",
        "outputId": "e00ae954-ef09-4eb5-9238-0f05bb0d1662"
      },
      "source": [
        "predict(random_cv,1)"
      ],
      "execution_count": 87,
      "outputs": [
        {
          "output_type": "stream",
          "text": [
            "Fitting 3 folds for each of 10 candidates, totalling 30 fits\n"
          ],
          "name": "stdout"
        },
        {
          "output_type": "stream",
          "text": [
            "[Parallel(n_jobs=-1)]: Using backend LokyBackend with 2 concurrent workers.\n",
            "[Parallel(n_jobs=-1)]: Done  30 out of  30 | elapsed:   25.1s finished\n"
          ],
          "name": "stderr"
        },
        {
          "output_type": "stream",
          "text": [
            "training score is : 0.851123595505618\n",
            "testing score is :0.8156424581005587\n",
            "Accuracy is: 0.8156424581005587\n"
          ],
          "name": "stdout"
        },
        {
          "output_type": "stream",
          "text": [
            "/usr/local/lib/python3.7/dist-packages/seaborn/distributions.py:2557: FutureWarning: `distplot` is a deprecated function and will be removed in a future version. Please adapt your code to use either `displot` (a figure-level function with similar flexibility) or `histplot` (an axes-level function for histograms).\n",
            "  warnings.warn(msg, FutureWarning)\n"
          ],
          "name": "stderr"
        },
        {
          "output_type": "display_data",
          "data": {
            "image/png": "[encoded data removed]",
            "text/plain": [
              "<Figure size 576x396 with 1 Axes>"
            ]
          },
          "metadata": {
            "tags": []
          }
        }
      ]
    },
    {
      "cell_type": "markdown",
      "metadata": {
        "id": "jmUyFTVd6UJK"
      },
      "source": [
        "## **By using cross validation techniques we increased our model accuracy from 81.56% to 82.12%** "
      ]
    },
    {
      "cell_type": "markdown",
      "metadata": {
        "id": "ckShNgKLFnsr"
      },
      "source": [
        "## **predictions on test set**"
      ]
    },
    {
      "cell_type": "code",
      "metadata": {
        "id": "NjZKqF1i59MI",
        "colab": {
          "base_uri": "https://localhost:8080/",
          "height": 267
        },
        "outputId": "06822f44-b396-4780-d77f-2f10f29fb692"
      },
      "source": [
        "titanic_df = pd.read_csv(\"/content/drive/MyDrive/the intern academy/task 1 - titanic eda/titanic dataset/test.csv\")\n",
        "titanic_df.head()"
      ],
      "execution_count": 88,
      "outputs": [
        {
          "output_type": "execute_result",
          "data": {
            "text/html": [
              "<div>\n",
              "<style scoped>\n",
              "    .dataframe tbody tr th:only-of-type {\n",
              "        vertical-align: middle;\n",
              "    }\n",
              "\n",
              "    .dataframe tbody tr th {\n",
              "        vertical-align: top;\n",
              "    }\n",
              "\n",
              "    .dataframe thead th {\n",
              "        text-align: right;\n",
              "    }\n",
              "</style>\n",
              "<table border=\"1\" class=\"dataframe\">\n",
              "  <thead>\n",
              "    <tr style=\"text-align: right;\">\n",
              "      <th></th>\n",
              "      <th>PassengerId</th>\n",
              "      <th>Pclass</th>\n",
              "      <th>Name</th>\n",
              "      <th>Sex</th>\n",
              "      <th>Age</th>\n",
              "      <th>SibSp</th>\n",
              "      <th>Parch</th>\n",
              "      <th>Ticket</th>\n",
              "      <th>Fare</th>\n",
              "      <th>Cabin</th>\n",
              "      <th>Embarked</th>\n",
              "    </tr>\n",
              "  </thead>\n",
              "  <tbody>\n",
              "    <tr>\n",
              "      <th>0</th>\n",
              "      <td>892</td>\n",
              "      <td>3</td>\n",
              "      <td>Kelly, Mr. James</td>\n",
              "      <td>male</td>\n",
              "      <td>34.5</td>\n",
              "      <td>0</td>\n",
              "      <td>0</td>\n",
              "      <td>330911</td>\n",
              "      <td>7.8292</td>\n",
              "      <td>NaN</td>\n",
              "      <td>Q</td>\n",
              "    </tr>\n",
              "    <tr>\n",
              "      <th>1</th>\n",
              "      <td>893</td>\n",
              "      <td>3</td>\n",
              "      <td>Wilkes, Mrs. James (Ellen Needs)</td>\n",
              "      <td>female</td>\n",
              "      <td>47.0</td>\n",
              "      <td>1</td>\n",
              "      <td>0</td>\n",
              "      <td>363272</td>\n",
              "      <td>7.0000</td>\n",
              "      <td>NaN</td>\n",
              "      <td>S</td>\n",
              "    </tr>\n",
              "    <tr>\n",
              "      <th>2</th>\n",
              "      <td>894</td>\n",
              "      <td>2</td>\n",
              "      <td>Myles, Mr. Thomas Francis</td>\n",
              "      <td>male</td>\n",
              "      <td>62.0</td>\n",
              "      <td>0</td>\n",
              "      <td>0</td>\n",
              "      <td>240276</td>\n",
              "      <td>9.6875</td>\n",
              "      <td>NaN</td>\n",
              "      <td>Q</td>\n",
              "    </tr>\n",
              "    <tr>\n",
              "      <th>3</th>\n",
              "      <td>895</td>\n",
              "      <td>3</td>\n",
              "      <td>Wirz, Mr. Albert</td>\n",
              "      <td>male</td>\n",
              "      <td>27.0</td>\n",
              "      <td>0</td>\n",
              "      <td>0</td>\n",
              "      <td>315154</td>\n",
              "      <td>8.6625</td>\n",
              "      <td>NaN</td>\n",
              "      <td>S</td>\n",
              "    </tr>\n",
              "    <tr>\n",
              "      <th>4</th>\n",
              "      <td>896</td>\n",
              "      <td>3</td>\n",
              "      <td>Hirvonen, Mrs. Alexander (Helga E Lindqvist)</td>\n",
              "      <td>female</td>\n",
              "      <td>22.0</td>\n",
              "      <td>1</td>\n",
              "      <td>1</td>\n",
              "      <td>3101298</td>\n",
              "      <td>12.2875</td>\n",
              "      <td>NaN</td>\n",
              "      <td>S</td>\n",
              "    </tr>\n",
              "  </tbody>\n",
              "</table>\n",
              "</div>"
            ],
            "text/plain": [
              "   PassengerId  Pclass  ... Cabin Embarked\n",
              "0          892       3  ...   NaN        Q\n",
              "1          893       3  ...   NaN        S\n",
              "2          894       2  ...   NaN        Q\n",
              "3          895       3  ...   NaN        S\n",
              "4          896       3  ...   NaN        S\n",
              "\n",
              "[5 rows x 11 columns]"
            ]
          },
          "metadata": {
            "tags": []
          },
          "execution_count": 88
        }
      ]
    },
    {
      "cell_type": "code",
      "metadata": {
        "id": "XhEq03VPHUEs"
      },
      "source": [
        "def drop_columns(name , data): # function to drop columns from data inplace\n",
        "  data = data.drop(name , axis = 1 , inplace = True)\n",
        "  "
      ],
      "execution_count": 89,
      "outputs": []
    },
    {
      "cell_type": "code",
      "metadata": {
        "id": "D18vaUF5F37f"
      },
      "source": [
        "titanic_df = titanic_df.drop(\"Cabin\" , axis = 1)  #drop Cabine from axis =  1 i.e column\n",
        "titanic_df['Age'] = titanic_df['Age'].fillna(titanic_df['Age'].mean())   #filling missing age value\n",
        "titanic_df['Fare'] = titanic_df['Fare'].fillna(titanic_df['Fare'].median())   #filling missing age value\n",
        "titanic_df['Embarked']  = titanic_df['Embarked'].fillna(\"S\")\n",
        "titanic_df['Fare'] = np.where(titanic_df[\"Fare\"]>=200 ,titanic_df[\"Fare\"].median() , titanic_df[\"Fare\"])\n",
        "drop_columns(['Name','PassengerId' , 'Ticket'] , titanic_df) #dropping columns from data\n",
        "titanic_df = pd.get_dummies(data = titanic_df, columns=['Sex','Embarked'], drop_first=True)"
      ],
      "execution_count": 90,
      "outputs": []
    },
    {
      "cell_type": "code",
      "metadata": {
        "colab": {
          "base_uri": "https://localhost:8080/"
        },
        "id": "2298nllVHiej",
        "outputId": "ab7a6c33-5c39-4329-f41e-4635b7cba724"
      },
      "source": [
        "titanic_df.isnull().sum()"
      ],
      "execution_count": 91,
      "outputs": [
        {
          "output_type": "execute_result",
          "data": {
            "text/plain": [
              "Pclass        0\n",
              "Age           0\n",
              "SibSp         0\n",
              "Parch         0\n",
              "Fare          0\n",
              "Sex_male      0\n",
              "Embarked_Q    0\n",
              "Embarked_S    0\n",
              "dtype: int64"
            ]
          },
          "metadata": {
            "tags": []
          },
          "execution_count": 91
        }
      ]
    },
    {
      "cell_type": "code",
      "metadata": {
        "id": "wjtRjlHTHmUI"
      },
      "source": [
        "\n",
        "model = open('model.pkl','rb')\n",
        "forest = pickle.load(model)"
      ],
      "execution_count": 94,
      "outputs": []
    },
    {
      "cell_type": "code",
      "metadata": {
        "id": "EgRRY6JWI-9Z"
      },
      "source": [
        "y_prediction = forest.predict(titanic_df)"
      ],
      "execution_count": 95,
      "outputs": []
    },
    {
      "cell_type": "code",
      "metadata": {
        "id": "dYsx-calJmFM"
      },
      "source": [
        "columns = [\"Survived\"]\n",
        "df = pd.DataFrame(data = y_prediction , columns= columns )"
      ],
      "execution_count": 98,
      "outputs": []
    },
    {
      "cell_type": "code",
      "metadata": {
        "colab": {
          "base_uri": "https://localhost:8080/",
          "height": 407
        },
        "id": "1WJvEbKyJnSk",
        "outputId": "ad7ae0c0-490c-4774-d91a-50bb3aa2765d"
      },
      "source": [
        "df"
      ],
      "execution_count": 99,
      "outputs": [
        {
          "output_type": "execute_result",
          "data": {
            "text/html": [
              "<div>\n",
              "<style scoped>\n",
              "    .dataframe tbody tr th:only-of-type {\n",
              "        vertical-align: middle;\n",
              "    }\n",
              "\n",
              "    .dataframe tbody tr th {\n",
              "        vertical-align: top;\n",
              "    }\n",
              "\n",
              "    .dataframe thead th {\n",
              "        text-align: right;\n",
              "    }\n",
              "</style>\n",
              "<table border=\"1\" class=\"dataframe\">\n",
              "  <thead>\n",
              "    <tr style=\"text-align: right;\">\n",
              "      <th></th>\n",
              "      <th>Survived</th>\n",
              "    </tr>\n",
              "  </thead>\n",
              "  <tbody>\n",
              "    <tr>\n",
              "      <th>0</th>\n",
              "      <td>0</td>\n",
              "    </tr>\n",
              "    <tr>\n",
              "      <th>1</th>\n",
              "      <td>0</td>\n",
              "    </tr>\n",
              "    <tr>\n",
              "      <th>2</th>\n",
              "      <td>0</td>\n",
              "    </tr>\n",
              "    <tr>\n",
              "      <th>3</th>\n",
              "      <td>0</td>\n",
              "    </tr>\n",
              "    <tr>\n",
              "      <th>4</th>\n",
              "      <td>1</td>\n",
              "    </tr>\n",
              "    <tr>\n",
              "      <th>...</th>\n",
              "      <td>...</td>\n",
              "    </tr>\n",
              "    <tr>\n",
              "      <th>413</th>\n",
              "      <td>0</td>\n",
              "    </tr>\n",
              "    <tr>\n",
              "      <th>414</th>\n",
              "      <td>1</td>\n",
              "    </tr>\n",
              "    <tr>\n",
              "      <th>415</th>\n",
              "      <td>0</td>\n",
              "    </tr>\n",
              "    <tr>\n",
              "      <th>416</th>\n",
              "      <td>0</td>\n",
              "    </tr>\n",
              "    <tr>\n",
              "      <th>417</th>\n",
              "      <td>0</td>\n",
              "    </tr>\n",
              "  </tbody>\n",
              "</table>\n",
              "<p>418 rows × 1 columns</p>\n",
              "</div>"
            ],
            "text/plain": [
              "     Survived\n",
              "0           0\n",
              "1           0\n",
              "2           0\n",
              "3           0\n",
              "4           1\n",
              "..        ...\n",
              "413         0\n",
              "414         1\n",
              "415         0\n",
              "416         0\n",
              "417         0\n",
              "\n",
              "[418 rows x 1 columns]"
            ]
          },
          "metadata": {
            "tags": []
          },
          "execution_count": 99
        }
      ]
    },
    {
      "cell_type": "code",
      "metadata": {
        "id": "tK-7BGf1MZYY"
      },
      "source": [
        ""
      ],
      "execution_count": null,
      "outputs": []
    }
  ]
}